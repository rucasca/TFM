{
 "cells": [
  {
   "cell_type": "code",
   "execution_count": 3,
   "metadata": {},
   "outputs": [
    {
     "name": "stderr",
     "output_type": "stream",
     "text": [
      "\"poetry\" no se reconoce como un comando interno o externo,\n",
      "programa o archivo por lotes ejecutable.\n"
     ]
    }
   ],
   "source": [
    "!poetry show"
   ]
  },
  {
   "cell_type": "code",
   "execution_count": 4,
   "metadata": {},
   "outputs": [
    {
     "name": "stdout",
     "output_type": "stream",
     "text": [
      "Collecting poetry\n",
      "  Downloading poetry-1.8.4-py3-none-any.whl.metadata (6.9 kB)\n",
      "Collecting build<2.0.0,>=1.0.3 (from poetry)\n",
      "  Downloading build-1.2.2.post1-py3-none-any.whl.metadata (6.5 kB)\n",
      "Collecting cachecontrol<0.15.0,>=0.14.0 (from cachecontrol[filecache]<0.15.0,>=0.14.0->poetry)\n",
      "  Downloading cachecontrol-0.14.1-py3-none-any.whl.metadata (3.1 kB)\n",
      "Collecting cleo<3.0.0,>=2.1.0 (from poetry)\n",
      "  Downloading cleo-2.1.0-py3-none-any.whl.metadata (12 kB)\n",
      "Collecting crashtest<0.5.0,>=0.4.1 (from poetry)\n",
      "  Downloading crashtest-0.4.1-py3-none-any.whl.metadata (1.1 kB)\n",
      "Collecting dulwich<0.22.0,>=0.21.2 (from poetry)\n",
      "  Downloading dulwich-0.21.7-cp311-cp311-win_amd64.whl.metadata (4.4 kB)\n",
      "Collecting fastjsonschema<3.0.0,>=2.18.0 (from poetry)\n",
      "  Downloading fastjsonschema-2.21.0-py3-none-any.whl.metadata (2.2 kB)\n",
      "Collecting installer<0.8.0,>=0.7.0 (from poetry)\n",
      "  Downloading installer-0.7.0-py3-none-any.whl.metadata (936 bytes)\n",
      "Collecting keyring<25.0.0,>=24.0.0 (from poetry)\n",
      "  Downloading keyring-24.3.1-py3-none-any.whl.metadata (20 kB)\n",
      "Requirement already satisfied: packaging>=23.1 in c:\\users\\ruben\\anaconda3\\lib\\site-packages (from poetry) (23.1)\n",
      "Requirement already satisfied: pexpect<5.0.0,>=4.7.0 in c:\\users\\ruben\\anaconda3\\lib\\site-packages (from poetry) (4.8.0)\n",
      "Collecting pkginfo<2.0,>=1.10 (from poetry)\n",
      "  Downloading pkginfo-1.11.2-py3-none-any.whl.metadata (11 kB)\n",
      "Requirement already satisfied: platformdirs<5,>=3.0.0 in c:\\users\\ruben\\anaconda3\\lib\\site-packages (from poetry) (3.10.0)\n",
      "Collecting poetry-core==1.9.1 (from poetry)\n",
      "  Downloading poetry_core-1.9.1-py3-none-any.whl.metadata (3.5 kB)\n",
      "Collecting poetry-plugin-export<2.0.0,>=1.6.0 (from poetry)\n",
      "  Downloading poetry_plugin_export-1.8.0-py3-none-any.whl.metadata (2.8 kB)\n",
      "Collecting pyproject-hooks<2.0.0,>=1.0.0 (from poetry)\n",
      "  Downloading pyproject_hooks-1.2.0-py3-none-any.whl.metadata (1.3 kB)\n",
      "Requirement already satisfied: requests<3.0,>=2.26 in c:\\users\\ruben\\anaconda3\\lib\\site-packages (from poetry) (2.31.0)\n",
      "Requirement already satisfied: requests-toolbelt<2.0.0,>=1.0.0 in c:\\users\\ruben\\anaconda3\\lib\\site-packages (from poetry) (1.0.0)\n",
      "Requirement already satisfied: shellingham<2.0,>=1.5 in c:\\users\\ruben\\anaconda3\\lib\\site-packages (from poetry) (1.5.0)\n",
      "Collecting tomlkit<1.0.0,>=0.11.4 (from poetry)\n",
      "  Downloading tomlkit-0.13.2-py3-none-any.whl.metadata (2.7 kB)\n",
      "Collecting trove-classifiers>=2022.5.19 (from poetry)\n",
      "  Downloading trove_classifiers-2024.10.21.16-py3-none-any.whl.metadata (2.2 kB)\n",
      "Collecting virtualenv<21.0.0,>=20.26.6 (from poetry)\n",
      "  Downloading virtualenv-20.28.0-py3-none-any.whl.metadata (4.4 kB)\n",
      "Requirement already satisfied: colorama in c:\\users\\ruben\\anaconda3\\lib\\site-packages (from build<2.0.0,>=1.0.3->poetry) (0.4.6)\n",
      "Requirement already satisfied: msgpack<2.0.0,>=0.5.2 in c:\\users\\ruben\\anaconda3\\lib\\site-packages (from cachecontrol<0.15.0,>=0.14.0->cachecontrol[filecache]<0.15.0,>=0.14.0->poetry) (1.0.3)\n",
      "Requirement already satisfied: filelock>=3.8.0 in c:\\users\\ruben\\anaconda3\\lib\\site-packages (from cachecontrol[filecache]<0.15.0,>=0.14.0->poetry) (3.13.1)\n",
      "Collecting rapidfuzz<4.0.0,>=3.0.0 (from cleo<3.0.0,>=2.1.0->poetry)\n",
      "  Downloading rapidfuzz-3.10.1-cp311-cp311-win_amd64.whl.metadata (11 kB)\n",
      "Requirement already satisfied: urllib3>=1.25 in c:\\users\\ruben\\anaconda3\\lib\\site-packages (from dulwich<0.22.0,>=0.21.2->poetry) (2.0.3)\n",
      "Requirement already satisfied: jaraco.classes in c:\\users\\ruben\\anaconda3\\lib\\site-packages (from keyring<25.0.0,>=24.0.0->poetry) (3.2.1)\n",
      "Requirement already satisfied: importlib-metadata>=4.11.4 in c:\\users\\ruben\\anaconda3\\lib\\site-packages (from keyring<25.0.0,>=24.0.0->poetry) (7.0.1)\n",
      "Requirement already satisfied: pywin32-ctypes>=0.2.0 in c:\\users\\ruben\\anaconda3\\lib\\site-packages (from keyring<25.0.0,>=24.0.0->poetry) (0.2.0)\n",
      "Requirement already satisfied: ptyprocess>=0.5 in c:\\users\\ruben\\anaconda3\\lib\\site-packages (from pexpect<5.0.0,>=4.7.0->poetry) (0.7.0)\n",
      "Requirement already satisfied: charset-normalizer<4,>=2 in c:\\users\\ruben\\anaconda3\\lib\\site-packages (from requests<3.0,>=2.26->poetry) (2.0.4)\n",
      "Requirement already satisfied: idna<4,>=2.5 in c:\\users\\ruben\\anaconda3\\lib\\site-packages (from requests<3.0,>=2.26->poetry) (3.4)\n",
      "Requirement already satisfied: certifi>=2017.4.17 in c:\\users\\ruben\\anaconda3\\lib\\site-packages (from requests<3.0,>=2.26->poetry) (2024.2.2)\n",
      "Collecting distlib<1,>=0.3.7 (from virtualenv<21.0.0,>=20.26.6->poetry)\n",
      "  Downloading distlib-0.3.9-py2.py3-none-any.whl.metadata (5.2 kB)\n",
      "Requirement already satisfied: zipp>=0.5 in c:\\users\\ruben\\anaconda3\\lib\\site-packages (from importlib-metadata>=4.11.4->keyring<25.0.0,>=24.0.0->poetry) (3.17.0)\n",
      "Requirement already satisfied: more-itertools in c:\\users\\ruben\\anaconda3\\lib\\site-packages (from jaraco.classes->keyring<25.0.0,>=24.0.0->poetry) (10.1.0)\n",
      "Downloading poetry-1.8.4-py3-none-any.whl (249 kB)\n",
      "   ---------------------------------------- 0.0/249.9 kB ? eta -:--:--\n",
      "   ------------------- -------------------- 122.9/249.9 kB 3.6 MB/s eta 0:00:01\n",
      "   ---------------------------------------- 249.9/249.9 kB 3.1 MB/s eta 0:00:00\n",
      "Downloading poetry_core-1.9.1-py3-none-any.whl (309 kB)\n",
      "   ---------------------------------------- 0.0/309.5 kB ? eta -:--:--\n",
      "   ---------------------- ----------------- 174.1/309.5 kB 5.3 MB/s eta 0:00:01\n",
      "   ---------------------------------------- 309.5/309.5 kB 3.8 MB/s eta 0:00:00\n",
      "Downloading build-1.2.2.post1-py3-none-any.whl (22 kB)\n",
      "Downloading cachecontrol-0.14.1-py3-none-any.whl (22 kB)\n",
      "Downloading cleo-2.1.0-py3-none-any.whl (78 kB)\n",
      "   ---------------------------------------- 0.0/78.7 kB ? eta -:--:--\n",
      "   ------------------------------------ --- 71.7/78.7 kB 2.0 MB/s eta 0:00:01\n",
      "   ---------------------------------------- 78.7/78.7 kB 1.5 MB/s eta 0:00:00\n",
      "Downloading crashtest-0.4.1-py3-none-any.whl (7.6 kB)\n",
      "Downloading dulwich-0.21.7-cp311-cp311-win_amd64.whl (487 kB)\n",
      "   ---------------------------------------- 0.0/487.5 kB ? eta -:--:--\n",
      "   ------------------------ --------------- 297.0/487.5 kB 6.1 MB/s eta 0:00:01\n",
      "   ----------------------------------- ---- 430.1/487.5 kB 4.5 MB/s eta 0:00:01\n",
      "   ---------------------------------------- 487.5/487.5 kB 3.8 MB/s eta 0:00:00\n",
      "Downloading fastjsonschema-2.21.0-py3-none-any.whl (23 kB)\n",
      "Downloading installer-0.7.0-py3-none-any.whl (453 kB)\n",
      "   ---------------------------------------- 0.0/453.8 kB ? eta -:--:--\n",
      "   ---------- ----------------------------- 122.9/453.8 kB 7.0 MB/s eta 0:00:01\n",
      "   ------------------- -------------------- 225.3/453.8 kB 2.8 MB/s eta 0:00:01\n",
      "   ------------------------- -------------- 286.7/453.8 kB 2.5 MB/s eta 0:00:01\n",
      "   -------------------------------- ------- 368.6/453.8 kB 2.3 MB/s eta 0:00:01\n",
      "   ------------------------------------ --- 409.6/453.8 kB 2.0 MB/s eta 0:00:01\n",
      "   ---------------------------------------- 453.8/453.8 kB 2.0 MB/s eta 0:00:00\n",
      "Downloading keyring-24.3.1-py3-none-any.whl (38 kB)\n",
      "Downloading pkginfo-1.11.2-py3-none-any.whl (31 kB)\n",
      "Downloading poetry_plugin_export-1.8.0-py3-none-any.whl (10 kB)\n",
      "Downloading pyproject_hooks-1.2.0-py3-none-any.whl (10 kB)\n",
      "Downloading tomlkit-0.13.2-py3-none-any.whl (37 kB)\n",
      "Downloading trove_classifiers-2024.10.21.16-py3-none-any.whl (13 kB)\n",
      "Downloading virtualenv-20.28.0-py3-none-any.whl (4.3 MB)\n",
      "   ---------------------------------------- 0.0/4.3 MB ? eta -:--:--\n",
      "   - -------------------------------------- 0.2/4.3 MB 4.8 MB/s eta 0:00:01\n",
      "   -- ------------------------------------- 0.3/4.3 MB 3.1 MB/s eta 0:00:02\n",
      "   ----- ---------------------------------- 0.6/4.3 MB 4.5 MB/s eta 0:00:01\n",
      "   ------ --------------------------------- 0.7/4.3 MB 4.1 MB/s eta 0:00:01\n",
      "   ------- -------------------------------- 0.8/4.3 MB 3.6 MB/s eta 0:00:01\n",
      "   -------- ------------------------------- 0.9/4.3 MB 3.6 MB/s eta 0:00:01\n",
      "   ---------- ----------------------------- 1.1/4.3 MB 3.6 MB/s eta 0:00:01\n",
      "   ----------- ---------------------------- 1.3/4.3 MB 3.5 MB/s eta 0:00:01\n",
      "   ------------- -------------------------- 1.4/4.3 MB 3.5 MB/s eta 0:00:01\n",
      "   --------------- ------------------------ 1.6/4.3 MB 3.7 MB/s eta 0:00:01\n",
      "   ----------------- ---------------------- 1.9/4.3 MB 3.7 MB/s eta 0:00:01\n",
      "   -------------------- ------------------- 2.1/4.3 MB 3.9 MB/s eta 0:00:01\n",
      "   ---------------------- ----------------- 2.4/4.3 MB 3.9 MB/s eta 0:00:01\n",
      "   ------------------------ --------------- 2.7/4.3 MB 4.1 MB/s eta 0:00:01\n",
      "   -------------------------- ------------- 2.9/4.3 MB 4.2 MB/s eta 0:00:01\n",
      "   ---------------------------- ----------- 3.0/4.3 MB 4.1 MB/s eta 0:00:01\n",
      "   ----------------------------- ---------- 3.2/4.3 MB 4.0 MB/s eta 0:00:01\n",
      "   ------------------------------- -------- 3.3/4.3 MB 4.0 MB/s eta 0:00:01\n",
      "   ------------------------------- -------- 3.4/4.3 MB 4.0 MB/s eta 0:00:01\n",
      "   -------------------------------- ------- 3.5/4.3 MB 3.9 MB/s eta 0:00:01\n",
      "   ---------------------------------- ----- 3.7/4.3 MB 3.8 MB/s eta 0:00:01\n",
      "   ------------------------------------ --- 3.9/4.3 MB 3.9 MB/s eta 0:00:01\n",
      "   -------------------------------------- - 4.1/4.3 MB 3.9 MB/s eta 0:00:01\n",
      "   -------------------------------------- - 4.1/4.3 MB 3.8 MB/s eta 0:00:01\n",
      "   ---------------------------------------  4.2/4.3 MB 3.7 MB/s eta 0:00:01\n",
      "   ---------------------------------------  4.3/4.3 MB 3.6 MB/s eta 0:00:01\n",
      "   ---------------------------------------- 4.3/4.3 MB 3.5 MB/s eta 0:00:00\n",
      "Downloading distlib-0.3.9-py2.py3-none-any.whl (468 kB)\n",
      "   ---------------------------------------- 0.0/469.0 kB ? eta -:--:--\n",
      "   --------- ------------------------------ 112.6/469.0 kB 6.8 MB/s eta 0:00:01\n",
      "   ---------- ----------------------------- 122.9/469.0 kB 2.4 MB/s eta 0:00:01\n",
      "   ------------------- -------------------- 225.3/469.0 kB 1.7 MB/s eta 0:00:01\n",
      "   ------------------------ --------------- 286.7/469.0 kB 1.8 MB/s eta 0:00:01\n",
      "   ------------------------------ --------- 358.4/469.0 kB 1.9 MB/s eta 0:00:01\n",
      "   ----------------------------------- ---- 419.8/469.0 kB 1.8 MB/s eta 0:00:01\n",
      "   ---------------------------------------  460.8/469.0 kB 1.5 MB/s eta 0:00:01\n",
      "   ---------------------------------------- 469.0/469.0 kB 1.5 MB/s eta 0:00:00\n",
      "Downloading rapidfuzz-3.10.1-cp311-cp311-win_amd64.whl (1.6 MB)\n",
      "   ---------------------------------------- 0.0/1.6 MB ? eta -:--:--\n",
      "   - -------------------------------------- 0.1/1.6 MB 4.1 MB/s eta 0:00:01\n",
      "   ---- ----------------------------------- 0.2/1.6 MB 2.8 MB/s eta 0:00:01\n",
      "   ------ --------------------------------- 0.3/1.6 MB 2.8 MB/s eta 0:00:01\n",
      "   -------- ------------------------------- 0.3/1.6 MB 2.0 MB/s eta 0:00:01\n",
      "   ------------ --------------------------- 0.5/1.6 MB 2.4 MB/s eta 0:00:01\n",
      "   -------------- ------------------------- 0.6/1.6 MB 2.3 MB/s eta 0:00:01\n",
      "   ------------------ --------------------- 0.7/1.6 MB 2.5 MB/s eta 0:00:01\n",
      "   --------------------- ------------------ 0.9/1.6 MB 2.5 MB/s eta 0:00:01\n",
      "   ------------------------- -------------- 1.0/1.6 MB 2.6 MB/s eta 0:00:01\n",
      "   --------------------------- ------------ 1.1/1.6 MB 2.6 MB/s eta 0:00:01\n",
      "   -------------------------------- ------- 1.3/1.6 MB 2.8 MB/s eta 0:00:01\n",
      "   ------------------------------------- -- 1.5/1.6 MB 2.8 MB/s eta 0:00:01\n",
      "   ---------------------------------------- 1.6/1.6 MB 2.7 MB/s eta 0:00:00\n",
      "Installing collected packages: trove-classifiers, fastjsonschema, distlib, virtualenv, tomlkit, rapidfuzz, pyproject-hooks, poetry-core, pkginfo, installer, dulwich, crashtest, keyring, cleo, cachecontrol, build, poetry-plugin-export, poetry\n",
      "  Attempting uninstall: fastjsonschema\n",
      "    Found existing installation: fastjsonschema 2.16.2\n",
      "    Uninstalling fastjsonschema-2.16.2:\n",
      "      Successfully uninstalled fastjsonschema-2.16.2\n",
      "  Attempting uninstall: tomlkit\n",
      "    Found existing installation: tomlkit 0.11.1\n",
      "    Uninstalling tomlkit-0.11.1:\n",
      "      Successfully uninstalled tomlkit-0.11.1\n",
      "  Attempting uninstall: pkginfo\n",
      "    Found existing installation: pkginfo 1.9.6\n",
      "    Uninstalling pkginfo-1.9.6:\n",
      "      Successfully uninstalled pkginfo-1.9.6\n",
      "  Attempting uninstall: keyring\n",
      "    Found existing installation: keyring 23.13.1\n",
      "    Uninstalling keyring-23.13.1:\n",
      "      Successfully uninstalled keyring-23.13.1\n",
      "Successfully installed build-1.2.2.post1 cachecontrol-0.14.1 cleo-2.1.0 crashtest-0.4.1 distlib-0.3.9 dulwich-0.21.7 fastjsonschema-2.21.0 installer-0.7.0 keyring-24.3.1 pkginfo-1.11.2 poetry-1.8.4 poetry-core-1.9.1 poetry-plugin-export-1.8.0 pyproject-hooks-1.2.0 rapidfuzz-3.10.1 tomlkit-0.13.2 trove-classifiers-2024.10.21.16 virtualenv-20.28.0\n"
     ]
    },
    {
     "name": "stderr",
     "output_type": "stream",
     "text": [
      "\n",
      "[notice] A new release of pip is available: 24.0 -> 24.3.1\n",
      "[notice] To update, run: python.exe -m pip install --upgrade pip\n"
     ]
    }
   ],
   "source": [
    "!pip install poetry\n"
   ]
  },
  {
   "cell_type": "code",
   "execution_count": 5,
   "metadata": {},
   "outputs": [
    {
     "name": "stdout",
     "output_type": "stream",
     "text": [
      "Poetry (version 1.8.4)\n"
     ]
    }
   ],
   "source": [
    "!poetry --version\n"
   ]
  },
  {
   "cell_type": "code",
   "execution_count": 9,
   "metadata": {},
   "outputs": [
    {
     "name": "stdout",
     "output_type": "stream",
     "text": [
      "pip 24.0 from C:\\Users\\ruben\\anaconda3\\Lib\\site-packages\\pip (python 3.11)\n",
      "\n"
     ]
    }
   ],
   "source": [
    "!pip --version"
   ]
  },
  {
   "cell_type": "code",
   "execution_count": 13,
   "metadata": {},
   "outputs": [],
   "source": [
    "!poetry init --name TFM --description \"Proyecto TFM\" --author \"Ruben Castillo Carrasco\" --python \"^3.10\" --no-interaction"
   ]
  },
  {
   "cell_type": "code",
   "execution_count": 14,
   "metadata": {},
   "outputs": [
    {
     "name": "stdout",
     "output_type": "stream",
     "text": [
      "Using version ^2.1.3 for numpy\n",
      "\n",
      "Updating dependencies\n",
      "Resolving dependencies...\n",
      "\n",
      "Package operations: 1 install, 0 updates, 0 removals\n",
      "\n",
      "  - Installing numpy (2.1.3)\n",
      "\n",
      "Writing lock file\n"
     ]
    },
    {
     "name": "stderr",
     "output_type": "stream",
     "text": [
      "Creating virtualenv tfm-GA1VApv3-py3.11 in C:\\Users\\ruben\\AppData\\Local\\pypoetry\\Cache\\virtualenvs\n"
     ]
    }
   ],
   "source": [
    "!poetry add numpy"
   ]
  },
  {
   "cell_type": "code",
   "execution_count": 15,
   "metadata": {},
   "outputs": [
    {
     "name": "stdout",
     "output_type": "stream",
     "text": [
      "Using version ^2.2.3 for pandas\n",
      "\n",
      "Updating dependencies\n",
      "Resolving dependencies...\n",
      "\n",
      "Package operations: 5 installs, 0 updates, 0 removals\n",
      "\n",
      "  - Installing six (1.16.0)\n",
      "  - Installing python-dateutil (2.9.0.post0)\n",
      "  - Installing pytz (2024.2)\n",
      "  - Installing tzdata (2024.2)\n",
      "  - Installing pandas (2.2.3)\n",
      "\n",
      "Writing lock file\n"
     ]
    }
   ],
   "source": [
    "!poetry add pandas"
   ]
  },
  {
   "cell_type": "code",
   "execution_count": 16,
   "metadata": {},
   "outputs": [
    {
     "name": "stdout",
     "output_type": "stream",
     "text": [
      "Installing dependencies from lock file\n",
      "\n",
      "No dependencies to install or update\n",
      "\n",
      "Installing the current project: tfm (0.1.0)\n",
      "\n"
     ]
    },
    {
     "name": "stderr",
     "output_type": "stream",
     "text": [
      "Warning: The current project could not be installed: [Errno 2] No such file or directory: 'c:\\\\Users\\\\ruben\\\\Desktop\\\\code_tfm\\\\tests\\\\README.md'\n",
      "If you do not want to install the current project use --no-root.\n",
      "If you want to use Poetry only for dependency management but not for packaging, you can disable package mode by setting package-mode = false in your pyproject.toml file.\n",
      "In a future version of Poetry this warning will become an error!\n"
     ]
    }
   ],
   "source": [
    "!poetry install"
   ]
  },
  {
   "cell_type": "code",
   "execution_count": 18,
   "metadata": {},
   "outputs": [],
   "source": [
    "!poetry env info --path"
   ]
  },
  {
   "cell_type": "code",
   "execution_count": null,
   "metadata": {},
   "outputs": [],
   "source": []
  }
 ],
 "metadata": {
  "kernelspec": {
   "display_name": "base",
   "language": "python",
   "name": "python3"
  },
  "language_info": {
   "codemirror_mode": {
    "name": "ipython",
    "version": 3
   },
   "file_extension": ".py",
   "mimetype": "text/x-python",
   "name": "python",
   "nbconvert_exporter": "python",
   "pygments_lexer": "ipython3",
   "version": "3.11.7"
  }
 },
 "nbformat": 4,
 "nbformat_minor": 2
}
