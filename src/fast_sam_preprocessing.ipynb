{
 "cells": [
  {
   "cell_type": "code",
   "execution_count": null,
   "metadata": {},
   "outputs": [],
   "source": [
    "from fastsam import FastSAM, FastSAMPrompt\n",
    "\n",
    "model = FastSAM('./weights/FastSAM.pt')\n",
    "IMAGE_PATH = './images/dogs.jpg'\n",
    "DEVICE = 'cpu'\n",
    "everything_results = model(IMAGE_PATH, device=DEVICE, retina_masks=True, imgsz=1024, conf=0.4, iou=0.9,)\n",
    "prompt_process = FastSAMPrompt(IMAGE_PATH, everything_results, device=DEVICE)\n",
    "\n",
    "# everything prompt\n",
    "ann = prompt_process.everything_prompt()\n",
    "\n",
    "prompt_process.plot(annotations=ann,output_path='./output/dog.jpg',)"
   ]
  },
  {
   "cell_type": "code",
   "execution_count": null,
   "metadata": {},
   "outputs": [],
   "source": []
  },
  {
   "cell_type": "code",
   "execution_count": null,
   "metadata": {},
   "outputs": [],
   "source": []
  }
 ],
 "metadata": {
  "language_info": {
   "name": "python"
  }
 },
 "nbformat": 4,
 "nbformat_minor": 2
}
