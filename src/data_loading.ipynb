{
 "cells": [
  {
   "cell_type": "code",
   "execution_count": 1,
   "metadata": {},
   "outputs": [],
   "source": [
    "from pathlib import Path"
   ]
  },
  {
   "cell_type": "code",
   "execution_count": 2,
   "metadata": {},
   "outputs": [],
   "source": [
    "from ultralytics.utils.downloads import download\n"
   ]
  },
  {
   "cell_type": "code",
   "execution_count": null,
   "metadata": {},
   "outputs": [
    {
     "name": "stdout",
     "output_type": "stream",
     "text": [
      "Downloading https://ultralytics.com/assets/coco2017labels-segments.zip to '..\\datasets\\coco2017labels-segments.zip'...\n"
     ]
    },
    {
     "name": "stderr",
     "output_type": "stream",
     "text": [
      "100%|██████████| 169M/169M [00:35<00:00, 5.02MB/s] \n",
      "Unzipping ..\\datasets\\coco2017labels-segments.zip to C:\\Users\\ruben\\Desktop\\code_tfm\\datasets\\coco...: 100%|██████████| 122232/122232 [03:04<00:00, 664.29file/s]"
     ]
    },
    {
     "name": "stdout",
     "output_type": "stream",
     "text": [
      "Downloading http://images.cocodataset.org/zips/test2017.zip to '..\\datasets\\coco\\images\\test2017.zip'...\n",
      "Downloading http://images.cocodataset.org/zips/val2017.zip to '..\\datasets\\coco\\images\\val2017.zip'...\n",
      "Downloading http://images.cocodataset.org/zips/train2017.zip to '..\\datasets\\coco\\images\\train2017.zip'...\n"
     ]
    },
    {
     "name": "stderr",
     "output_type": "stream",
     "text": [
      "\n"
     ]
    }
   ],
   "source": [
    "from ultralytics.utils.downloads import download\n",
    "from pathlib import Path\n",
    "\n",
    "segments = True  # True for segmentation labels\n",
    "dir = Path('../datasets/coco/')  # Modify path as per your YAML file\n",
    "url = 'https://github.com/ultralytics/assets/releases/download/v0.0.0/'\n",
    "urls = [url + ('coco2017labels-segments.zip' if segments else 'coco2017labels.zip')]\n",
    "download(urls, dir=dir.parent)\n",
    "\n",
    "# Download images\n",
    "urls = [\n",
    "    'http://images.cocodataset.org/zips/train2017.zip',\n",
    "    'http://images.cocodataset.org/zips/val2017.zip',\n",
    "    'http://images.cocodataset.org/zips/test2017.zip',\n",
    "]\n",
    "download(urls, dir=dir / 'images', threads=3)\n"
   ]
  },
  {
   "cell_type": "code",
   "execution_count": null,
   "metadata": {},
   "outputs": [],
   "source": [
    "import os\n",
    "import matplotlib\n",
    "import matplotlib.pyplot as plt\n",
    "import matplotlib.patches as patches\n",
    "import matplotlib.colors as colors\n",
    "import seaborn as sns\n",
    "import numpy as np\n",
    "\n",
    "from random import shuffle\n",
    "from PIL import Image\n",
    "\n",
    "from pycocotools.coco import COCO"
   ]
  },
  {
   "cell_type": "code",
   "execution_count": null,
   "metadata": {},
   "outputs": [],
   "source": [
    "dataDir='../datasets/coco/'\n",
    "dataType='val2017'\n",
    "annFile='{}annotations/instances_{}.json'.format(dataDir,dataType)\n",
    "imageDir = '{}/images/{}/'.format(dataDir, dataType)\n",
    "\n",
    "# Initialize the COCO api for instance annotations\n",
    "coco=COCO(annFile)"
   ]
  },
  {
   "cell_type": "code",
   "execution_count": null,
   "metadata": {},
   "outputs": [],
   "source": [
    "# Load categories for the given ids\n",
    "ids = 1\n",
    "cats = coco.loadCats(ids=ids)\n",
    "print(cats)"
   ]
  },
  {
   "cell_type": "code",
   "execution_count": null,
   "metadata": {},
   "outputs": [],
   "source": [
    "category_ids = coco.getCatIds()\n",
    "num_categories = len(category_ids)\n",
    "print('number of categories: ',num_categories)\n",
    "for ids in category_ids:\n",
    "    cats = coco.loadCats(ids=ids)\n",
    "    print(cats)"
   ]
  },
  {
   "cell_type": "code",
   "execution_count": null,
   "metadata": {},
   "outputs": [],
   "source": [
    "# Load images for the given ids\n",
    "image_ids = coco.getImgIds()\n",
    "image_id = image_ids[0]  # Change this line to display a different image\n",
    "image_info = coco.loadImgs(image_id)\n",
    "print(image_info)"
   ]
  },
  {
   "cell_type": "code",
   "execution_count": null,
   "metadata": {},
   "outputs": [],
   "source": [
    "# Load annotations for the given ids\n",
    "annotation_ids = coco.getAnnIds(imgIds=image_id)\n",
    "annotations = coco.loadAnns(annotation_ids)\n",
    "print(annotations)"
   ]
  },
  {
   "cell_type": "code",
   "execution_count": null,
   "metadata": {},
   "outputs": [],
   "source": [
    "# Get category ids that satisfy the given filter conditions\n",
    "filterClasses = ['laptop', 'tv', 'cell phone']\n",
    "# Fetch class IDs only corresponding to the filterClasses\n",
    "catIds = coco.getCatIds(catNms=filterClasses)\n",
    "print(catIds)"
   ]
  },
  {
   "cell_type": "code",
   "execution_count": null,
   "metadata": {},
   "outputs": [],
   "source": [
    "# Load category information for the given ID\n",
    "catID = 15\n",
    "print(coco.loadCats(ids=catID))\n",
    "\n",
    "# Get image ID that satisfies the given filter conditions\n",
    "imgId = coco.getImgIds(catIds=[catID])[0]\n",
    "print(imgId)"
   ]
  },
  {
   "cell_type": "code",
   "execution_count": null,
   "metadata": {},
   "outputs": [],
   "source": [
    "catID = 15\n",
    "print(coco.loadCats(ids=catID))\n",
    "\n",
    "# Get image ids that satisfy the given filter conditions\n",
    "imgId = coco.getImgIds(catIds=[catID])[0]\n",
    "print(imgId)"
   ]
  },
  {
   "cell_type": "code",
   "execution_count": null,
   "metadata": {},
   "outputs": [],
   "source": [
    "ann_ids = coco.getAnnIds(imgIds=[imgId], iscrowd=None)\n",
    "print(ann_ids)"
   ]
  },
  {
   "cell_type": "code",
   "execution_count": null,
   "metadata": {},
   "outputs": [],
   "source": [
    "print(f\"Annotations for Image ID {imgId}:\")\n",
    "anns = coco.loadAnns(ann_ids)\n",
    "\n",
    "image_path = coco.loadImgs(imgId)[0]['file_name']\n",
    "print(image_path)\n",
    "image = plt.imread(imageDir + image_path)\n",
    "plt.imshow(image)\n",
    "\n",
    "# Display the specified annotations\n",
    "coco.showAnns(anns, draw_bbox=True)\n",
    "\n",
    "plt.axis('off')\n",
    "plt.title('Annotations for Image ID: {}'.format(image_id))\n",
    "plt.tight_layout()\n",
    "plt.show()"
   ]
  },
  {
   "cell_type": "code",
   "execution_count": null,
   "metadata": {},
   "outputs": [],
   "source": []
  }
 ],
 "metadata": {
  "kernelspec": {
   "display_name": "base",
   "language": "python",
   "name": "python3"
  },
  "language_info": {
   "codemirror_mode": {
    "name": "ipython",
    "version": 3
   },
   "file_extension": ".py",
   "mimetype": "text/x-python",
   "name": "python",
   "nbconvert_exporter": "python",
   "pygments_lexer": "ipython3",
   "version": "3.11.7"
  }
 },
 "nbformat": 4,
 "nbformat_minor": 2
}
