{
 "cells": [
  {
   "cell_type": "markdown",
   "metadata": {},
   "source": [
    "# Modelado del conjunto de datos\n",
    "A lo largo de este notebook se cubre la tercera fase de la metodología CRIPS-DM, en este caso la preparación dec los datos\n",
    "\n",
    "1. **Comprensión del Negocio (Business Understanding)**\n",
    "   - Consistente en el entendimiento del objetivo del proyecto.\n",
    "\n",
    "2. **Comprensión de los Datos (Data Understanding)**\n",
    "   - Relacionada con la carga y primera evaluación del conjunto de datos. Se divide a su vez en :\n",
    "\n",
    "\n",
    "3. **Preparación de los Datos (Data Preparation)** \n",
    "   - Consistente en la limpieza, preparación y extracción de características de los datos.\n",
    "\n",
    "4. <span style=\"color:#66FF99;\">**Modelado (Modeling)**  </span> \n",
    "   - Relacionada con la elección del modelo de machine learning y el ajuste hiperparamétrico.\n",
    "\n",
    "5. **Evaluación (Evaluation)**  \n",
    "   - Evaluación de los resultados obtenidos por el modelo.\n",
    "\n",
    "6. **Implementación (Deployment)**  \n",
    "   - Integración del modelo de forma que sea accesible para su uso.\n"
   ]
  },
  {
   "cell_type": "markdown",
   "metadata": {},
   "source": []
  },
  {
   "cell_type": "markdown",
   "metadata": {},
   "source": []
  },
  {
   "cell_type": "code",
   "execution_count": null,
   "metadata": {},
   "outputs": [],
   "source": [
    "!pip install ultralytics"
   ]
  },
  {
   "cell_type": "code",
   "execution_count": null,
   "metadata": {},
   "outputs": [],
   "source": [
    "from ultralytics import YOLO\n",
    "import cv2\n",
    "\n",
    "# Cargar el modelo YOLOv8 preentrenado\n",
    "model = YOLO(\"yolov8n.pt\")  # Puedes cambiar por yolov8s.pt, yolov8m.pt, etc.\n",
    "\n",
    "# Cargar imagen\n",
    "image_path = \"ruta/a/tu_imagen.jpg\"\n",
    "image = cv2.imread(image_path)\n",
    "\n",
    "# Ejecutar predicción\n",
    "results = model(image)[0]\n",
    "\n",
    "# Lista para almacenar bounding boxes de perros\n",
    "dog_boxes = []\n",
    "\n",
    "# ID de la clase 'dog' en COCO (es la clase 16)\n",
    "DOG_CLASS_ID = 16\n",
    "\n",
    "# Iterar sobre los resultados\n",
    "for box in results.boxes:\n",
    "    cls_id = int(box.cls.item())\n",
    "    if cls_id == DOG_CLASS_ID:\n",
    "        # Obtener coordenadas (x1, y1, x2, y2)\n",
    "        x1, y1, x2, y2 = map(int, box.xyxy[0])\n",
    "        dog_boxes.append((x1, y1, x2, y2))\n",
    "        # Dibujar la caja en la imagen\n",
    "        cv2.rectangle(image, (x1, y1), (x2, y2), (0, 255, 0), 2)\n",
    "\n",
    "# Mostrar la imagen con los perros detectados\n",
    "cv2.imshow(\"Perros detectados\", image)\n",
    "cv2.waitKey(0)\n",
    "cv2.destroyAllWindows()\n",
    "\n",
    "# Mostrar todas las cajas por consola\n",
    "print(\"Bounding boxes de perros detectados:\")\n",
    "for bbox in dog_boxes:\n",
    "    print(bbox)\n"
   ]
  }
 ],
 "metadata": {
  "language_info": {
   "name": "python"
  }
 },
 "nbformat": 4,
 "nbformat_minor": 2
}
