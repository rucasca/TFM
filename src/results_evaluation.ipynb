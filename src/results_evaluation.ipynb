{
 "cells": [
  {
   "cell_type": "markdown",
   "metadata": {},
   "source": [
    "# Comparativa de resultados\n",
    "A lo largo de este notebook se cubre la quinta fase de la metodología CRIPS-DM, en este caso la evaluación de los resultados\n",
    "\n",
    "1. **Comprensión del Negocio (Business Understanding)**\n",
    "   - Consistente en el entendimiento del objetivo del proyecto.\n",
    "\n",
    "2. **Comprensión de los Datos (Data Understanding)**\n",
    "   - Relacionada con la carga y primera evaluación del conjunto de datos. Se divide a su vez en :\n",
    "\n",
    "\n",
    "3. **Preparación de los Datos (Data Preparation)** \n",
    "   - Consistente en la limpieza, preparación y extracción de características de los datos.\n",
    "\n",
    "4. **Modelado (Modeling)**  \n",
    "   - Relacionada con la elección del modelo de machine learning y el ajuste hiperparamétrico.\n",
    "\n",
    "5. <span style=\"color:#66FF99;\">**Evaluación (Evaluation)**  </span> \n",
    "   - Evaluación de los resultados obtenidos y comparativa de los mismos emtre modelos.\n",
    "\n",
    "6. **Implementación (Deployment)**  \n",
    "   - Integración del modelo de forma que sea accesible para su uso.\n"
   ]
  },
  {
   "cell_type": "markdown",
   "metadata": {},
   "source": [
    "## Evaluación \n",
    "\n",
    "\n",
    "Tras el entrenamiento de diversos modelos \n",
    "\n",
    "Esta sección puede ser dividida en dos subsecciones:\n",
    "\n",
    "1) Evaluación y comparativa cuantitativa: se comapran resultados entre modelos de acuerdo con funciones de rendimiento\n",
    "\n",
    "2) Evaluación cualitativa: se estudia como se comporta cada uno de los modelos ante las imágenes, y su relación con los etiquetados del dataset"
   ]
  },
  {
   "cell_type": "markdown",
   "metadata": {},
   "source": [
    "### 1. Evaluación cuantitativa\n",
    "\n",
    "En este caso, se ha considerado relevante el estudio de tres métricas de rendimeinto para evaluar el funcionamiento de cada uno de los modelos entrenados\n",
    "\n",
    "1) \n",
    "2) \n",
    "3) "
   ]
  },
  {
   "cell_type": "code",
   "execution_count": null,
   "metadata": {},
   "outputs": [],
   "source": []
  },
  {
   "cell_type": "code",
   "execution_count": null,
   "metadata": {},
   "outputs": [],
   "source": []
  },
  {
   "cell_type": "code",
   "execution_count": null,
   "metadata": {},
   "outputs": [],
   "source": []
  },
  {
   "cell_type": "markdown",
   "metadata": {},
   "source": [
    "### 2. Evaluación cualitativa\n",
    "\n",
    "A continuación, se genera la inferencia para cada imagen del dataset y se comprueban no únicamente los resultados del modelo, sino que también su relación con la máscara estipulada por el conjunto de datos seleccionado.\n",
    "Para ello, hacemos uso de cada una de las pipelines definidas para cada modelo."
   ]
  },
  {
   "cell_type": "markdown",
   "metadata": {},
   "source": []
  }
 ],
 "metadata": {
  "language_info": {
   "name": "python"
  }
 },
 "nbformat": 4,
 "nbformat_minor": 2
}
