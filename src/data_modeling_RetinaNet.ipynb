{
 "cells": [
  {
   "cell_type": "code",
   "execution_count": null,
   "metadata": {},
   "outputs": [],
   "source": [
    "import tensorflow as tf\n",
    "from object_detection.utils import config_util\n",
    "from object_detection.protos import pipeline_pb2\n",
    "from google.protobuf import text_format\n",
    "\n",
    "pipeline_config = 'path_to_retinanet_config_file.config'\n",
    "configs = config_util.create_configs_from_pipeline_proto(pipeline_config)\n",
    "model = tf.saved_model.load(configs['model'])\n"
   ]
  },
  {
   "cell_type": "code",
   "execution_count": null,
   "metadata": {},
   "outputs": [],
   "source": [
    "import numpy as np\n",
    "import tensorflow as tf\n",
    "import os\n",
    "import pathlib\n",
    "from object_detection.utils import label_map_util\n",
    "from object_detection.utils import visualization_utils as vis_util\n",
    "from object_detection.utils import ops as utils_ops\n",
    "from object_detection.utils import image_utils\n",
    "\n",
    "# Load the model\n",
    "PATH_TO_SAVED_MODEL = 'path/to/retinanet_model/saved_model'\n",
    "detect_fn = tf.saved_model.load(PATH_TO_SAVED_MODEL)\n",
    "\n",
    "# Load label map\n",
    "PATH_TO_LABELS = 'path/to/label_map.pbtxt'\n",
    "category_index = label_map_util.create_category_index_from_labelmap(PATH_TO_LABELS, use_display_name=True)\n",
    "\n",
    "# Load image\n",
    "image_path = 'path_to_image.jpg'\n",
    "image_np = np.array(image_utils.load_image_into_numpy_array(image_path))\n",
    "\n",
    "# Run detection\n",
    "input_tensor = tf.convert_to_tensor(image_np)\n",
    "input_tensor = input_tensor[tf.newaxis,...]\n",
    "\n",
    "# Perform the detection\n",
    "output_dict = detect_fn(input_tensor)\n",
    "\n",
    "# All outputs are float32 numpy arrays, so convert to appropriate types\n",
    "num_detections = int(output_dict.pop('num_detections'))\n",
    "output_dict['detection_classes'] = np.array(output_dict['detection_classes'][0]).astype(np.int64)\n",
    "output_dict['detection_boxes'] = np.array(output_dict['detection_boxes'][0])\n",
    "output_dict['detection_scores'] = np.array(output_dict['detection_scores'][0])\n",
    "\n",
    "# Visualize the results\n",
    "vis_util.visualize_boxes_and_labels_on_image_array(\n",
    "    image_np,\n",
    "    output_dict['detection_boxes'],\n",
    "    output_dict['detection_classes'],\n",
    "    output_dict['detection_scores'],\n",
    "    category_index,\n",
    "    instance_masks=output_dict.get('detection_masks', None),\n",
    "    use_normalized_coordinates=True,\n",
    "    line_thickness=8)\n",
    "\n",
    "# Show the image with detection boxes\n",
    "import matplotlib.pyplot as plt\n",
    "plt.figure(figsize=(12,8))\n",
    "plt.imshow(image_np)\n",
    "plt.show()\n"
   ]
  }
 ],
 "metadata": {
  "language_info": {
   "name": "python"
  }
 },
 "nbformat": 4,
 "nbformat_minor": 2
}
