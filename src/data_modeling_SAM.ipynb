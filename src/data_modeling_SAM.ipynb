{
 "cells": [
  {
   "cell_type": "markdown",
   "metadata": {},
   "source": [
    "# Modelado del conjunto de datos\n",
    "A lo largo de este notebook se cubre la tercera fase de la metodología CRIPS-DM, en este caso la preparación dec los datos\n",
    "\n",
    "1. **Comprensión del Negocio (Business Understanding)**\n",
    "   - Consistente en el entendimiento del objetivo del proyecto.\n",
    "\n",
    "2. **Comprensión de los Datos (Data Understanding)**\n",
    "   - Relacionada con la carga y primera evaluación del conjunto de datos. Se divide a su vez en :\n",
    "\n",
    "\n",
    "3. **Preparación de los Datos (Data Preparation)** \n",
    "   - Consistente en la limpieza, preparación y extracción de características de los datos.\n",
    "\n",
    "4. <span style=\"color:#66FF99;\">**Modelado (Modeling)**  </span> \n",
    "   - Relacionada con la elección del modelo de machine learning y el ajuste hiperparamétrico.\n",
    "\n",
    "5. **Evaluación (Evaluation)**  \n",
    "   - Evaluación de los resultados obtenidos por el modelo.\n",
    "\n",
    "6. **Implementación (Deployment)**  \n",
    "   - Integración del modelo de forma que sea accesible para su uso.\n"
   ]
  },
  {
   "cell_type": "markdown",
   "metadata": {},
   "source": []
  }
 ],
 "metadata": {
  "language_info": {
   "name": "python"
  }
 },
 "nbformat": 4,
 "nbformat_minor": 2
}
