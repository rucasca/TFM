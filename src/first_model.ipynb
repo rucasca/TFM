{
 "cells": [
  {
   "cell_type": "markdown",
   "metadata": {},
   "source": [
    "# Data modeling y evaluation\n",
    "A lo largo de este notebook se cubre parte de la cuarta y quinta fase de la metodología CRIPS-DM, en este caso el modelado y la evaluación de los resultados\n",
    "\n",
    "\n",
    "1. **Comprensión del Negocio (Business Understanding)**\n",
    "   - Consistente en el entendimiento del objetivo del proyecto.\n",
    "\n",
    "2. **Comprensión de los Datos (Data Understanding)**\n",
    "   - Relacionada con la carga y primera evaluación del conjunto de datos. Se divide a su vez en :\n",
    "\n",
    "\n",
    "3. **Preparación de los Datos (Data Preparation)** \n",
    "   - Consistente en la limpieza, preparación y extracción de características de los datos.\n",
    "\n",
    "4. <span style=\"color:#66FF99;\">**Modelado (Modeling)**  </span> \n",
    "\n",
    "\n",
    "   Relacionada con la selección del modelo y el ajuste hiperparamétrico del mismo. En este caso, se han probado dos modelos diferentes, donde en este notebook se desarrolla la implementación del primero:\n",
    "\n",
    "\n",
    "   <span style=\"color:#66FF99;\">**4.1. Primer modelo baseline inicial: se hace uso de la arquitectura U-Net entrenada con el dataset en bruto.**</span> \n",
    "\n",
    "\n",
    "   4.2. Modelo final: ensemble de modelos, que combina las salidas de Fast-SAM y CLIP con la arquitectura U-Net para resolver el problema de segmentación.\n",
    "\n",
    "5. <span style=\"color:#66FF99;\">**Evaluación (Evaluation)**</span>  \n",
    "   - Evaluación de los resultados obtenidos por el modelo.\n",
    "\n",
    "6. **Implementación (Deployment)**  \n",
    "   - Integración del modelo de forma que sea accesible para su uso."
   ]
  },
  {
   "cell_type": "code",
   "execution_count": null,
   "metadata": {
    "vscode": {
     "languageId": "plaintext"
    }
   },
   "outputs": [],
   "source": []
  },
  {
   "cell_type": "code",
   "execution_count": null,
   "metadata": {
    "vscode": {
     "languageId": "plaintext"
    }
   },
   "outputs": [],
   "source": []
  },
  {
   "cell_type": "code",
   "execution_count": null,
   "metadata": {
    "vscode": {
     "languageId": "plaintext"
    }
   },
   "outputs": [],
   "source": []
  },
  {
   "cell_type": "code",
   "execution_count": null,
   "metadata": {
    "vscode": {
     "languageId": "plaintext"
    }
   },
   "outputs": [],
   "source": []
  }
 ],
 "metadata": {
  "language_info": {
   "name": "python"
  }
 },
 "nbformat": 4,
 "nbformat_minor": 2
}
